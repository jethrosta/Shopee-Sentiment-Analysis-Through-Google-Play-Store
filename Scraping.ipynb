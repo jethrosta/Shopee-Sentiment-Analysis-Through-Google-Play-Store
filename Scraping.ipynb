{
 "cells": [
  {
   "cell_type": "code",
   "execution_count": null,
   "metadata": {},
   "outputs": [],
   "source": [
    "%pip install google-play-scraper\n",
    "from google_play_scraper import app, reviews, Sort, reviews_all\n",
    "import csv\n",
    "Max_Reviews = 20000\n",
    "\n",
    "# Scraping ulasan Shopee (10 ulasan)\n",
    "Shopee_scrapreview, _ = reviews(\n",
    "    'com.shopee.id',\n",
    "    lang='id',\n",
    "    country='id',\n",
    "    sort=Sort.MOST_RELEVANT,\n",
    "    count=Max_Reviews\n",
    ")\n",
    "\n",
    "# Simpan ke CSV\n",
    "with open('ulasan_aplikasi_Shopee.csv', mode='w', newline='', encoding='utf-8') as file:\n",
    "    writer = csv.writer(file)\n",
    "    writer.writerow(['Review'])  # Tambahkan header\n",
    "\n",
    "    for review in Shopee_scrapreview:\n",
    "        writer.writerow([review['content']])\n",
    "\n",
    "    print(\"Scraping selesai! Data disimpan dalam 'ulasan_aplikasi_Shopee.csv'.\")"
   ]
  }
 ],
 "metadata": {
  "kernelspec": {
   "display_name": "Python 3 (ipykernel)",
   "language": "python",
   "name": "python3"
  }
 },
 "nbformat": 4,
 "nbformat_minor": 2
}
